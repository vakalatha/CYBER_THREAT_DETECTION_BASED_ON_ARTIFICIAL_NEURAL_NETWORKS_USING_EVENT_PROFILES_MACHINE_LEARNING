{
 "cells": [
  {
   "cell_type": "code",
   "execution_count": 1,
   "metadata": {},
   "outputs": [],
   "source": [
    "import pandas as pd\n",
    "import numpy as np\n",
    "from sklearn.preprocessing import LabelEncoder\n",
    "from sklearn.model_selection import train_test_split"
   ]
  },
  {
   "cell_type": "code",
   "execution_count": 2,
   "metadata": {},
   "outputs": [
    {
     "data": {
      "text/html": [
       "<div>\n",
       "<style scoped>\n",
       "    .dataframe tbody tr th:only-of-type {\n",
       "        vertical-align: middle;\n",
       "    }\n",
       "\n",
       "    .dataframe tbody tr th {\n",
       "        vertical-align: top;\n",
       "    }\n",
       "\n",
       "    .dataframe thead th {\n",
       "        text-align: right;\n",
       "    }\n",
       "</style>\n",
       "<table border=\"1\" class=\"dataframe\">\n",
       "  <thead>\n",
       "    <tr style=\"text-align: right;\">\n",
       "      <th></th>\n",
       "      <th>Entity</th>\n",
       "      <th>Year</th>\n",
       "      <th>Records</th>\n",
       "      <th>Organization type</th>\n",
       "      <th>Method</th>\n",
       "    </tr>\n",
       "  </thead>\n",
       "  <tbody>\n",
       "    <tr>\n",
       "      <th>0</th>\n",
       "      <td>21st Century Oncology</td>\n",
       "      <td>2016</td>\n",
       "      <td>2200000</td>\n",
       "      <td>healthcare</td>\n",
       "      <td>hacked</td>\n",
       "    </tr>\n",
       "    <tr>\n",
       "      <th>1</th>\n",
       "      <td>500px</td>\n",
       "      <td>2020</td>\n",
       "      <td>14870304</td>\n",
       "      <td>social networking</td>\n",
       "      <td>hacked</td>\n",
       "    </tr>\n",
       "    <tr>\n",
       "      <th>2</th>\n",
       "      <td>Accendo Insurance Co.</td>\n",
       "      <td>2020</td>\n",
       "      <td>175350</td>\n",
       "      <td>healthcare</td>\n",
       "      <td>poor security</td>\n",
       "    </tr>\n",
       "    <tr>\n",
       "      <th>3</th>\n",
       "      <td>Adobe Systems Incorporated</td>\n",
       "      <td>2013</td>\n",
       "      <td>152000000</td>\n",
       "      <td>tech</td>\n",
       "      <td>hacked</td>\n",
       "    </tr>\n",
       "    <tr>\n",
       "      <th>4</th>\n",
       "      <td>Adobe Inc.</td>\n",
       "      <td>2019</td>\n",
       "      <td>7500000</td>\n",
       "      <td>tech</td>\n",
       "      <td>poor security</td>\n",
       "    </tr>\n",
       "  </tbody>\n",
       "</table>\n",
       "</div>"
      ],
      "text/plain": [
       "                       Entity  Year    Records  Organization type  \\\n",
       "0       21st Century Oncology  2016    2200000         healthcare   \n",
       "1                       500px  2020   14870304  social networking   \n",
       "2       Accendo Insurance Co.  2020     175350         healthcare   \n",
       "3  Adobe Systems Incorporated  2013  152000000               tech   \n",
       "4                  Adobe Inc.  2019    7500000               tech   \n",
       "\n",
       "          Method  \n",
       "0         hacked  \n",
       "1         hacked  \n",
       "2  poor security  \n",
       "3         hacked  \n",
       "4  poor security  "
      ]
     },
     "execution_count": 2,
     "metadata": {},
     "output_type": "execute_result"
    }
   ],
   "source": [
    "df=pd.read_csv(r'DataBreaches(2004-2021).csv')\n",
    "df.head()"
   ]
  },
  {
   "cell_type": "code",
   "execution_count": 3,
   "metadata": {},
   "outputs": [
    {
     "data": {
      "text/plain": [
       "(295, 5)"
      ]
     },
     "execution_count": 3,
     "metadata": {},
     "output_type": "execute_result"
    }
   ],
   "source": [
    "df.shape"
   ]
  },
  {
   "cell_type": "code",
   "execution_count": 4,
   "metadata": {},
   "outputs": [
    {
     "data": {
      "text/plain": [
       "Entity               object\n",
       "Year                  int64\n",
       "Records               int64\n",
       "Organization type    object\n",
       "Method               object\n",
       "dtype: object"
      ]
     },
     "execution_count": 4,
     "metadata": {},
     "output_type": "execute_result"
    }
   ],
   "source": [
    "df.dtypes"
   ]
  },
  {
   "cell_type": "code",
   "execution_count": 5,
   "metadata": {},
   "outputs": [
    {
     "data": {
      "text/plain": [
       "Index(['Entity', 'Year', 'Records', 'Organization type', 'Method'], dtype='object')"
      ]
     },
     "execution_count": 5,
     "metadata": {},
     "output_type": "execute_result"
    }
   ],
   "source": [
    "df.columns"
   ]
  },
  {
   "cell_type": "code",
   "execution_count": 6,
   "metadata": {},
   "outputs": [
    {
     "data": {
      "text/plain": [
       "Entity               0\n",
       "Year                 0\n",
       "Records              0\n",
       "Organization type    0\n",
       "Method               0\n",
       "dtype: int64"
      ]
     },
     "execution_count": 6,
     "metadata": {},
     "output_type": "execute_result"
    }
   ],
   "source": [
    "df.isnull().sum()"
   ]
  },
  {
   "cell_type": "code",
   "execution_count": 7,
   "metadata": {},
   "outputs": [
    {
     "data": {
      "text/plain": [
       "0"
      ]
     },
     "execution_count": 7,
     "metadata": {},
     "output_type": "execute_result"
    }
   ],
   "source": [
    "df.isnull().sum().sum()"
   ]
  },
  {
   "cell_type": "code",
   "execution_count": 8,
   "metadata": {},
   "outputs": [
    {
     "data": {
      "text/plain": [
       "hacked                                                  156\n",
       "poor security                                            36\n",
       "lost / stolen media                                      32\n",
       "inside job                                               18\n",
       "accidentally published                                   17\n",
       "lost / stolen computer                                   15\n",
       "unknown                                                   4\n",
       "improper setting, hacked                                  2\n",
       "poor security/inside job                                  2\n",
       "intentionally lost                                        1\n",
       "accidentally exposed                                      1\n",
       "publicly accessible Amazon Web Services (AWS) server      1\n",
       "rogue contractor                                          1\n",
       "misconfiguration/poor security                            1\n",
       "Poor security                                             1\n",
       "data exposed by misconfiguration                          1\n",
       "unprotected api                                           1\n",
       "poor security / hacked                                    1\n",
       "accidentally uploaded                                     1\n",
       "unsecured S3 bucket                                       1\n",
       "inside job, hacked                                        1\n",
       "social engineering                                        1\n",
       "Name: Method, dtype: int64"
      ]
     },
     "execution_count": 8,
     "metadata": {},
     "output_type": "execute_result"
    }
   ],
   "source": [
    "df['Method'].value_counts()"
   ]
  },
  {
   "cell_type": "code",
   "execution_count": 9,
   "metadata": {},
   "outputs": [
    {
     "name": "stdout",
     "output_type": "stream",
     "text": [
      "LabelEncoder()\n"
     ]
    }
   ],
   "source": [
    "le=LabelEncoder()\n",
    "print(le)"
   ]
  },
  {
   "cell_type": "code",
   "execution_count": 10,
   "metadata": {},
   "outputs": [],
   "source": [
    "df['Entity']=le.fit_transform(df['Entity'])\n",
    "df['Organization type']=le.fit_transform(df['Organization type'])\n",
    "df['Method']=le.fit_transform(df['Method'])"
   ]
  },
  {
   "cell_type": "code",
   "execution_count": 11,
   "metadata": {},
   "outputs": [
    {
     "data": {
      "text/html": [
       "<div>\n",
       "<style scoped>\n",
       "    .dataframe tbody tr th:only-of-type {\n",
       "        vertical-align: middle;\n",
       "    }\n",
       "\n",
       "    .dataframe tbody tr th {\n",
       "        vertical-align: top;\n",
       "    }\n",
       "\n",
       "    .dataframe thead th {\n",
       "        text-align: right;\n",
       "    }\n",
       "</style>\n",
       "<table border=\"1\" class=\"dataframe\">\n",
       "  <thead>\n",
       "    <tr style=\"text-align: right;\">\n",
       "      <th></th>\n",
       "      <th>Entity</th>\n",
       "      <th>Year</th>\n",
       "      <th>Records</th>\n",
       "      <th>Organization type</th>\n",
       "      <th>Method</th>\n",
       "    </tr>\n",
       "  </thead>\n",
       "  <tbody>\n",
       "    <tr>\n",
       "      <th>0</th>\n",
       "      <td>1</td>\n",
       "      <td>2016</td>\n",
       "      <td>2200000</td>\n",
       "      <td>23</td>\n",
       "      <td>5</td>\n",
       "    </tr>\n",
       "    <tr>\n",
       "      <th>1</th>\n",
       "      <td>2</td>\n",
       "      <td>2020</td>\n",
       "      <td>14870304</td>\n",
       "      <td>40</td>\n",
       "      <td>5</td>\n",
       "    </tr>\n",
       "    <tr>\n",
       "      <th>2</th>\n",
       "      <td>5</td>\n",
       "      <td>2020</td>\n",
       "      <td>175350</td>\n",
       "      <td>23</td>\n",
       "      <td>13</td>\n",
       "    </tr>\n",
       "    <tr>\n",
       "      <th>3</th>\n",
       "      <td>7</td>\n",
       "      <td>2013</td>\n",
       "      <td>152000000</td>\n",
       "      <td>42</td>\n",
       "      <td>5</td>\n",
       "    </tr>\n",
       "    <tr>\n",
       "      <th>4</th>\n",
       "      <td>6</td>\n",
       "      <td>2019</td>\n",
       "      <td>7500000</td>\n",
       "      <td>42</td>\n",
       "      <td>13</td>\n",
       "    </tr>\n",
       "  </tbody>\n",
       "</table>\n",
       "</div>"
      ],
      "text/plain": [
       "   Entity  Year    Records  Organization type  Method\n",
       "0       1  2016    2200000                 23       5\n",
       "1       2  2020   14870304                 40       5\n",
       "2       5  2020     175350                 23      13\n",
       "3       7  2013  152000000                 42       5\n",
       "4       6  2019    7500000                 42      13"
      ]
     },
     "execution_count": 11,
     "metadata": {},
     "output_type": "execute_result"
    }
   ],
   "source": [
    "df.head()"
   ]
  },
  {
   "cell_type": "code",
   "execution_count": 12,
   "metadata": {},
   "outputs": [
    {
     "data": {
      "text/plain": [
       "5     156\n",
       "13     36\n",
       "11     32\n",
       "7      18\n",
       "2      17\n",
       "10     15\n",
       "19      4\n",
       "6       2\n",
       "15      2\n",
       "9       1\n",
       "1       1\n",
       "16      1\n",
       "17      1\n",
       "12      1\n",
       "0       1\n",
       "4       1\n",
       "20      1\n",
       "14      1\n",
       "3       1\n",
       "21      1\n",
       "8       1\n",
       "18      1\n",
       "Name: Method, dtype: int64"
      ]
     },
     "execution_count": 12,
     "metadata": {},
     "output_type": "execute_result"
    }
   ],
   "source": [
    "df['Method'].value_counts()"
   ]
  },
  {
   "cell_type": "code",
   "execution_count": 13,
   "metadata": {},
   "outputs": [],
   "source": [
    "df.to_csv('final_data.csv')"
   ]
  },
  {
   "cell_type": "code",
   "execution_count": 14,
   "metadata": {},
   "outputs": [
    {
     "data": {
      "text/html": [
       "<div>\n",
       "<style scoped>\n",
       "    .dataframe tbody tr th:only-of-type {\n",
       "        vertical-align: middle;\n",
       "    }\n",
       "\n",
       "    .dataframe tbody tr th {\n",
       "        vertical-align: top;\n",
       "    }\n",
       "\n",
       "    .dataframe thead th {\n",
       "        text-align: right;\n",
       "    }\n",
       "</style>\n",
       "<table border=\"1\" class=\"dataframe\">\n",
       "  <thead>\n",
       "    <tr style=\"text-align: right;\">\n",
       "      <th></th>\n",
       "      <th>Entity</th>\n",
       "      <th>Year</th>\n",
       "      <th>Records</th>\n",
       "      <th>Organization type</th>\n",
       "    </tr>\n",
       "  </thead>\n",
       "  <tbody>\n",
       "    <tr>\n",
       "      <th>0</th>\n",
       "      <td>1</td>\n",
       "      <td>2016</td>\n",
       "      <td>2200000</td>\n",
       "      <td>23</td>\n",
       "    </tr>\n",
       "    <tr>\n",
       "      <th>1</th>\n",
       "      <td>2</td>\n",
       "      <td>2020</td>\n",
       "      <td>14870304</td>\n",
       "      <td>40</td>\n",
       "    </tr>\n",
       "    <tr>\n",
       "      <th>2</th>\n",
       "      <td>5</td>\n",
       "      <td>2020</td>\n",
       "      <td>175350</td>\n",
       "      <td>23</td>\n",
       "    </tr>\n",
       "    <tr>\n",
       "      <th>3</th>\n",
       "      <td>7</td>\n",
       "      <td>2013</td>\n",
       "      <td>152000000</td>\n",
       "      <td>42</td>\n",
       "    </tr>\n",
       "    <tr>\n",
       "      <th>4</th>\n",
       "      <td>6</td>\n",
       "      <td>2019</td>\n",
       "      <td>7500000</td>\n",
       "      <td>42</td>\n",
       "    </tr>\n",
       "    <tr>\n",
       "      <th>...</th>\n",
       "      <td>...</td>\n",
       "      <td>...</td>\n",
       "      <td>...</td>\n",
       "      <td>...</td>\n",
       "    </tr>\n",
       "    <tr>\n",
       "      <th>290</th>\n",
       "      <td>275</td>\n",
       "      <td>2019</td>\n",
       "      <td>173000000</td>\n",
       "      <td>39</td>\n",
       "    </tr>\n",
       "    <tr>\n",
       "      <th>291</th>\n",
       "      <td>266</td>\n",
       "      <td>2019</td>\n",
       "      <td>98000</td>\n",
       "      <td>13</td>\n",
       "    </tr>\n",
       "    <tr>\n",
       "      <th>292</th>\n",
       "      <td>251</td>\n",
       "      <td>2020</td>\n",
       "      <td>200000000</td>\n",
       "      <td>13</td>\n",
       "    </tr>\n",
       "    <tr>\n",
       "      <th>293</th>\n",
       "      <td>147</td>\n",
       "      <td>2020</td>\n",
       "      <td>391250</td>\n",
       "      <td>23</td>\n",
       "    </tr>\n",
       "    <tr>\n",
       "      <th>294</th>\n",
       "      <td>120</td>\n",
       "      <td>2020</td>\n",
       "      <td>380000</td>\n",
       "      <td>34</td>\n",
       "    </tr>\n",
       "  </tbody>\n",
       "</table>\n",
       "<p>295 rows × 4 columns</p>\n",
       "</div>"
      ],
      "text/plain": [
       "     Entity  Year    Records  Organization type\n",
       "0         1  2016    2200000                 23\n",
       "1         2  2020   14870304                 40\n",
       "2         5  2020     175350                 23\n",
       "3         7  2013  152000000                 42\n",
       "4         6  2019    7500000                 42\n",
       "..      ...   ...        ...                ...\n",
       "290     275  2019  173000000                 39\n",
       "291     266  2019      98000                 13\n",
       "292     251  2020  200000000                 13\n",
       "293     147  2020     391250                 23\n",
       "294     120  2020     380000                 34\n",
       "\n",
       "[295 rows x 4 columns]"
      ]
     },
     "execution_count": 14,
     "metadata": {},
     "output_type": "execute_result"
    }
   ],
   "source": [
    "x=df.drop('Method',axis=1)\n",
    "x"
   ]
  },
  {
   "cell_type": "code",
   "execution_count": 15,
   "metadata": {},
   "outputs": [
    {
     "data": {
      "text/plain": [
       "0       5\n",
       "1       5\n",
       "2      13\n",
       "3       5\n",
       "4      13\n",
       "       ..\n",
       "290     5\n",
       "291     5\n",
       "292     2\n",
       "293    13\n",
       "294    19\n",
       "Name: Method, Length: 295, dtype: int32"
      ]
     },
     "execution_count": 15,
     "metadata": {},
     "output_type": "execute_result"
    }
   ],
   "source": [
    "y=df['Method']\n",
    "y"
   ]
  },
  {
   "cell_type": "code",
   "execution_count": 16,
   "metadata": {},
   "outputs": [],
   "source": [
    "x_train,x_test,y_train,y_test=train_test_split(x,y,test_size=0.3,random_state=42)"
   ]
  },
  {
   "cell_type": "code",
   "execution_count": 17,
   "metadata": {},
   "outputs": [
    {
     "data": {
      "text/html": [
       "<div>\n",
       "<style scoped>\n",
       "    .dataframe tbody tr th:only-of-type {\n",
       "        vertical-align: middle;\n",
       "    }\n",
       "\n",
       "    .dataframe tbody tr th {\n",
       "        vertical-align: top;\n",
       "    }\n",
       "\n",
       "    .dataframe thead th {\n",
       "        text-align: right;\n",
       "    }\n",
       "</style>\n",
       "<table border=\"1\" class=\"dataframe\">\n",
       "  <thead>\n",
       "    <tr style=\"text-align: right;\">\n",
       "      <th></th>\n",
       "      <th>Entity</th>\n",
       "      <th>Year</th>\n",
       "      <th>Records</th>\n",
       "      <th>Organization type</th>\n",
       "    </tr>\n",
       "  </thead>\n",
       "  <tbody>\n",
       "    <tr>\n",
       "      <th>69</th>\n",
       "      <td>59</td>\n",
       "      <td>2019</td>\n",
       "      <td>9700000</td>\n",
       "      <td>13</td>\n",
       "    </tr>\n",
       "    <tr>\n",
       "      <th>287</th>\n",
       "      <td>272</td>\n",
       "      <td>2010</td>\n",
       "      <td>43000</td>\n",
       "      <td>5</td>\n",
       "    </tr>\n",
       "    <tr>\n",
       "      <th>165</th>\n",
       "      <td>148</td>\n",
       "      <td>2014</td>\n",
       "      <td>1100000</td>\n",
       "      <td>36</td>\n",
       "    </tr>\n",
       "    <tr>\n",
       "      <th>126</th>\n",
       "      <td>108</td>\n",
       "      <td>2012</td>\n",
       "      <td>3000000</td>\n",
       "      <td>13</td>\n",
       "    </tr>\n",
       "    <tr>\n",
       "      <th>221</th>\n",
       "      <td>203</td>\n",
       "      <td>2012</td>\n",
       "      <td>2434899</td>\n",
       "      <td>19</td>\n",
       "    </tr>\n",
       "    <tr>\n",
       "      <th>...</th>\n",
       "      <td>...</td>\n",
       "      <td>...</td>\n",
       "      <td>...</td>\n",
       "      <td>...</td>\n",
       "    </tr>\n",
       "    <tr>\n",
       "      <th>188</th>\n",
       "      <td>170</td>\n",
       "      <td>2019</td>\n",
       "      <td>11900000</td>\n",
       "      <td>0</td>\n",
       "    </tr>\n",
       "    <tr>\n",
       "      <th>71</th>\n",
       "      <td>61</td>\n",
       "      <td>2019</td>\n",
       "      <td>4900000</td>\n",
       "      <td>50</td>\n",
       "    </tr>\n",
       "    <tr>\n",
       "      <th>106</th>\n",
       "      <td>89</td>\n",
       "      <td>2010</td>\n",
       "      <td>1500000</td>\n",
       "      <td>50</td>\n",
       "    </tr>\n",
       "    <tr>\n",
       "      <th>270</th>\n",
       "      <td>256</td>\n",
       "      <td>2020</td>\n",
       "      <td>900000</td>\n",
       "      <td>30</td>\n",
       "    </tr>\n",
       "    <tr>\n",
       "      <th>102</th>\n",
       "      <td>83</td>\n",
       "      <td>2012</td>\n",
       "      <td>420000</td>\n",
       "      <td>50</td>\n",
       "    </tr>\n",
       "  </tbody>\n",
       "</table>\n",
       "<p>206 rows × 4 columns</p>\n",
       "</div>"
      ],
      "text/plain": [
       "     Entity  Year   Records  Organization type\n",
       "69       59  2019   9700000                 13\n",
       "287     272  2010     43000                  5\n",
       "165     148  2014   1100000                 36\n",
       "126     108  2012   3000000                 13\n",
       "221     203  2012   2434899                 19\n",
       "..      ...   ...       ...                ...\n",
       "188     170  2019  11900000                  0\n",
       "71       61  2019   4900000                 50\n",
       "106      89  2010   1500000                 50\n",
       "270     256  2020    900000                 30\n",
       "102      83  2012    420000                 50\n",
       "\n",
       "[206 rows x 4 columns]"
      ]
     },
     "execution_count": 17,
     "metadata": {},
     "output_type": "execute_result"
    }
   ],
   "source": [
    "x_train"
   ]
  },
  {
   "cell_type": "code",
   "execution_count": 18,
   "metadata": {},
   "outputs": [
    {
     "data": {
      "text/plain": [
       "69      7\n",
       "287     2\n",
       "165     5\n",
       "126     5\n",
       "221     5\n",
       "       ..\n",
       "188    13\n",
       "71      5\n",
       "106     5\n",
       "270     1\n",
       "102     2\n",
       "Name: Method, Length: 206, dtype: int32"
      ]
     },
     "execution_count": 18,
     "metadata": {},
     "output_type": "execute_result"
    }
   ],
   "source": [
    "y_train"
   ]
  },
  {
   "cell_type": "code",
   "execution_count": 19,
   "metadata": {},
   "outputs": [
    {
     "data": {
      "text/html": [
       "<div>\n",
       "<style scoped>\n",
       "    .dataframe tbody tr th:only-of-type {\n",
       "        vertical-align: middle;\n",
       "    }\n",
       "\n",
       "    .dataframe tbody tr th {\n",
       "        vertical-align: top;\n",
       "    }\n",
       "\n",
       "    .dataframe thead th {\n",
       "        text-align: right;\n",
       "    }\n",
       "</style>\n",
       "<table border=\"1\" class=\"dataframe\">\n",
       "  <thead>\n",
       "    <tr style=\"text-align: right;\">\n",
       "      <th></th>\n",
       "      <th>Entity</th>\n",
       "      <th>Year</th>\n",
       "      <th>Records</th>\n",
       "      <th>Organization type</th>\n",
       "    </tr>\n",
       "  </thead>\n",
       "  <tbody>\n",
       "    <tr>\n",
       "      <th>273</th>\n",
       "      <td>259</td>\n",
       "      <td>2013</td>\n",
       "      <td>2000000</td>\n",
       "      <td>47</td>\n",
       "    </tr>\n",
       "    <tr>\n",
       "      <th>155</th>\n",
       "      <td>135</td>\n",
       "      <td>2008</td>\n",
       "      <td>6000000</td>\n",
       "      <td>19</td>\n",
       "    </tr>\n",
       "    <tr>\n",
       "      <th>84</th>\n",
       "      <td>71</td>\n",
       "      <td>2012</td>\n",
       "      <td>315000</td>\n",
       "      <td>23</td>\n",
       "    </tr>\n",
       "    <tr>\n",
       "      <th>82</th>\n",
       "      <td>69</td>\n",
       "      <td>2010</td>\n",
       "      <td>251000</td>\n",
       "      <td>19</td>\n",
       "    </tr>\n",
       "    <tr>\n",
       "      <th>261</th>\n",
       "      <td>227</td>\n",
       "      <td>2009</td>\n",
       "      <td>72000</td>\n",
       "      <td>28</td>\n",
       "    </tr>\n",
       "    <tr>\n",
       "      <th>...</th>\n",
       "      <td>...</td>\n",
       "      <td>...</td>\n",
       "      <td>...</td>\n",
       "      <td>...</td>\n",
       "    </tr>\n",
       "    <tr>\n",
       "      <th>292</th>\n",
       "      <td>251</td>\n",
       "      <td>2020</td>\n",
       "      <td>200000000</td>\n",
       "      <td>13</td>\n",
       "    </tr>\n",
       "    <tr>\n",
       "      <th>139</th>\n",
       "      <td>121</td>\n",
       "      <td>2014</td>\n",
       "      <td>1000000</td>\n",
       "      <td>42</td>\n",
       "    </tr>\n",
       "    <tr>\n",
       "      <th>266</th>\n",
       "      <td>146</td>\n",
       "      <td>2009</td>\n",
       "      <td>131000</td>\n",
       "      <td>28</td>\n",
       "    </tr>\n",
       "    <tr>\n",
       "      <th>67</th>\n",
       "      <td>58</td>\n",
       "      <td>2008</td>\n",
       "      <td>8000000</td>\n",
       "      <td>13</td>\n",
       "    </tr>\n",
       "    <tr>\n",
       "      <th>90</th>\n",
       "      <td>77</td>\n",
       "      <td>2013</td>\n",
       "      <td>6000000</td>\n",
       "      <td>39</td>\n",
       "    </tr>\n",
       "  </tbody>\n",
       "</table>\n",
       "<p>89 rows × 4 columns</p>\n",
       "</div>"
      ],
      "text/plain": [
       "     Entity  Year    Records  Organization type\n",
       "273     259  2013    2000000                 47\n",
       "155     135  2008    6000000                 19\n",
       "84       71  2012     315000                 23\n",
       "82       69  2010     251000                 19\n",
       "261     227  2009      72000                 28\n",
       "..      ...   ...        ...                ...\n",
       "292     251  2020  200000000                 13\n",
       "139     121  2014    1000000                 42\n",
       "266     146  2009     131000                 28\n",
       "67       58  2008    8000000                 13\n",
       "90       77  2013    6000000                 39\n",
       "\n",
       "[89 rows x 4 columns]"
      ]
     },
     "execution_count": 19,
     "metadata": {},
     "output_type": "execute_result"
    }
   ],
   "source": [
    "x_test"
   ]
  },
  {
   "cell_type": "code",
   "execution_count": 20,
   "metadata": {},
   "outputs": [
    {
     "data": {
      "text/plain": [
       "273     7\n",
       "155     2\n",
       "84     13\n",
       "82      7\n",
       "261    11\n",
       "       ..\n",
       "292     2\n",
       "139     5\n",
       "266    10\n",
       "67      5\n",
       "90      2\n",
       "Name: Method, Length: 89, dtype: int32"
      ]
     },
     "execution_count": 20,
     "metadata": {},
     "output_type": "execute_result"
    }
   ],
   "source": [
    "y_test"
   ]
  },
  {
   "cell_type": "code",
   "execution_count": 21,
   "metadata": {},
   "outputs": [
    {
     "data": {
      "text/plain": [
       "0.5168539325842697"
      ]
     },
     "execution_count": 21,
     "metadata": {},
     "output_type": "execute_result"
    }
   ],
   "source": [
    "from sklearn.metrics import accuracy_score\n",
    "from sklearn.ensemble import RandomForestClassifier\n",
    "rf=RandomForestClassifier()\n",
    "rf.fit(x_train,y_train)\n",
    "y_pred=rf.predict(x_test)\n",
    "acc=accuracy_score(y_pred,y_test)\n",
    "acc"
   ]
  },
  {
   "cell_type": "code",
   "execution_count": 22,
   "metadata": {},
   "outputs": [
    {
     "name": "stderr",
     "output_type": "stream",
     "text": [
      "c:\\Users\\ymts0591\\Anaconda3\\lib\\site-packages\\sklearn\\svm\\_base.py:1206: ConvergenceWarning: Liblinear failed to converge, increase the number of iterations.\n",
      "  warnings.warn(\n"
     ]
    },
    {
     "data": {
      "text/plain": [
       "0.1348314606741573"
      ]
     },
     "execution_count": 22,
     "metadata": {},
     "output_type": "execute_result"
    }
   ],
   "source": [
    "from sklearn.svm import LinearSVC\n",
    "svs=LinearSVC(C=1.0)\n",
    "svs.fit(x_train,y_train)\n",
    "y_pred=svs.predict(x_test)\n",
    "acc=accuracy_score(y_pred,y_test)\n",
    "acc"
   ]
  },
  {
   "cell_type": "code",
   "execution_count": 23,
   "metadata": {},
   "outputs": [
    {
     "name": "stdout",
     "output_type": "stream",
     "text": [
      "Epoch 1/10\n",
      "14/14 [==============================] - 1s 2ms/step - loss: -50018536.0000 - accuracy: 0.0000e+00\n",
      "Epoch 2/10\n",
      "14/14 [==============================] - 0s 3ms/step - loss: -125439016.0000 - accuracy: 0.0049\n",
      "Epoch 3/10\n",
      "14/14 [==============================] - 0s 3ms/step - loss: -153421152.0000 - accuracy: 0.0049\n",
      "Epoch 4/10\n",
      "14/14 [==============================] - 0s 2ms/step - loss: -349936896.0000 - accuracy: 0.0049\n",
      "Epoch 5/10\n",
      "14/14 [==============================] - 0s 3ms/step - loss: -402970848.0000 - accuracy: 0.0049 \n",
      "Epoch 6/10\n",
      "14/14 [==============================] - 0s 4ms/step - loss: -653061376.0000 - accuracy: 0.0049\n",
      "Epoch 7/10\n",
      "14/14 [==============================] - 0s 3ms/step - loss: -719271936.0000 - accuracy: 0.0049\n",
      "Epoch 8/10\n",
      "14/14 [==============================] - 0s 3ms/step - loss: -1247807488.0000 - accuracy: 0.0049\n",
      "Epoch 9/10\n",
      "14/14 [==============================] - 0s 2ms/step - loss: -1710754944.0000 - accuracy: 0.0049\n",
      "Epoch 10/10\n",
      "14/14 [==============================] - 0s 3ms/step - loss: -2228043264.0000 - accuracy: 0.0049\n",
      "3/3 [==============================] - 0s 2ms/step - loss: -2666410752.0000 - accuracy: 0.0000e+00\n"
     ]
    },
    {
     "data": {
      "text/plain": [
       "[-2666410752.0, 0.0]"
      ]
     },
     "execution_count": 23,
     "metadata": {},
     "output_type": "execute_result"
    }
   ],
   "source": [
    "from keras.models import Sequential\n",
    "from keras.layers import Dense, Dropout\n",
    "\n",
    "model = Sequential([\n",
    "Dense(input_dim = 4, units = 16, activation = 'relu'),\n",
    "Dense(units = 24, activation = 'relu'),\n",
    "Dropout(0.5),\n",
    "Dense(units = 20, activation = 'relu'),\n",
    "Dense(units = 24, activation = 'relu'),\n",
    "Dense(units =1, activation = 'sigmoid'),]) \n",
    "\n",
    "model.compile(optimizer = 'adam', loss = 'binary_crossentropy', metrics = ['accuracy'])\n",
    "model.fit(x_train, y_train, batch_size = 15, epochs = 10)\n",
    "\n",
    "score = model.evaluate(x_test,y_test)\n",
    "score"
   ]
  },
  {
   "cell_type": "code",
   "execution_count": 24,
   "metadata": {},
   "outputs": [
    {
     "name": "stdout",
     "output_type": "stream",
     "text": [
      "Model: \"sequential_1\"\n",
      "_________________________________________________________________\n",
      " Layer (type)                Output Shape              Param #   \n",
      "=================================================================\n",
      " dense_5 (Dense)             (None, 16)                80        \n",
      "                                                                 \n",
      " dense_6 (Dense)             (None, 8)                 136       \n",
      "                                                                 \n",
      " dropout_1 (Dropout)         (None, 8)                 0         \n",
      "                                                                 \n",
      " dense_7 (Dense)             (None, 4)                 36        \n",
      "                                                                 \n",
      " dropout_2 (Dropout)         (None, 4)                 0         \n",
      "                                                                 \n",
      " dense_8 (Dense)             (None, 1)                 5         \n",
      "                                                                 \n",
      "=================================================================\n",
      "Total params: 257\n",
      "Trainable params: 257\n",
      "Non-trainable params: 0\n",
      "_________________________________________________________________\n",
      "Epoch 1/50\n",
      "7/7 [==============================] - 1s 43ms/step - loss: 172.7642 - accuracy: 0.0049 - val_loss: -239.2545 - val_accuracy: 0.0000e+00\n",
      "Epoch 2/50\n",
      "7/7 [==============================] - 0s 10ms/step - loss: -146.0418 - accuracy: 0.0000e+00 - val_loss: -852.0187 - val_accuracy: 0.0000e+00\n",
      "Epoch 3/50\n",
      "7/7 [==============================] - 0s 15ms/step - loss: -1407.6230 - accuracy: 0.0049 - val_loss: -2309.9421 - val_accuracy: 0.0000e+00\n",
      "Epoch 4/50\n",
      "7/7 [==============================] - 0s 7ms/step - loss: -1480.9238 - accuracy: 0.0049 - val_loss: -5171.4019 - val_accuracy: 0.0000e+00\n",
      "Epoch 5/50\n",
      "7/7 [==============================] - 0s 9ms/step - loss: -5336.3872 - accuracy: 0.0049 - val_loss: -10504.9287 - val_accuracy: 0.0000e+00\n",
      "Epoch 6/50\n",
      "7/7 [==============================] - 0s 11ms/step - loss: -14421.1631 - accuracy: 0.0049 - val_loss: -22012.1777 - val_accuracy: 0.0000e+00\n",
      "Epoch 7/50\n",
      "7/7 [==============================] - 0s 9ms/step - loss: -22190.7480 - accuracy: 0.0049 - val_loss: -43287.3945 - val_accuracy: 0.0000e+00\n",
      "Epoch 8/50\n",
      "7/7 [==============================] - 0s 9ms/step - loss: -24681.0977 - accuracy: 0.0049 - val_loss: -77822.8438 - val_accuracy: 0.0000e+00\n",
      "Epoch 9/50\n",
      "7/7 [==============================] - 0s 9ms/step - loss: -84594.9062 - accuracy: 0.0049 - val_loss: -135314.1406 - val_accuracy: 0.0000e+00\n",
      "Epoch 10/50\n",
      "7/7 [==============================] - 0s 8ms/step - loss: -162860.9062 - accuracy: 0.0049 - val_loss: -223522.7344 - val_accuracy: 0.0000e+00\n",
      "Epoch 11/50\n",
      "7/7 [==============================] - 0s 9ms/step - loss: -259879.8906 - accuracy: 0.0049 - val_loss: -354887.3125 - val_accuracy: 0.0000e+00\n",
      "Epoch 12/50\n",
      "7/7 [==============================] - 0s 8ms/step - loss: -490286.7188 - accuracy: 0.0049 - val_loss: -549332.2500 - val_accuracy: 0.0000e+00\n",
      "Epoch 13/50\n",
      "7/7 [==============================] - 0s 9ms/step - loss: -570625.5625 - accuracy: 0.0049 - val_loss: -812178.8750 - val_accuracy: 0.0000e+00\n",
      "Epoch 14/50\n",
      "7/7 [==============================] - 0s 10ms/step - loss: -1438612.6250 - accuracy: 0.0049 - val_loss: -1200825.1250 - val_accuracy: 0.0000e+00\n",
      "Epoch 15/50\n",
      "7/7 [==============================] - 0s 9ms/step - loss: -1058709.1250 - accuracy: 0.0049 - val_loss: -1694147.7500 - val_accuracy: 0.0000e+00\n",
      "Epoch 16/50\n",
      "7/7 [==============================] - 0s 9ms/step - loss: -1733543.5000 - accuracy: 0.0049 - val_loss: -2271343.0000 - val_accuracy: 0.0000e+00\n",
      "Epoch 17/50\n",
      "7/7 [==============================] - 0s 10ms/step - loss: -1938905.6250 - accuracy: 0.0049 - val_loss: -2996611.2500 - val_accuracy: 0.0000e+00\n",
      "Epoch 18/50\n",
      "7/7 [==============================] - 0s 9ms/step - loss: -2354144.2500 - accuracy: 0.0049 - val_loss: -3928623.7500 - val_accuracy: 0.0000e+00\n",
      "Epoch 19/50\n",
      "7/7 [==============================] - 0s 8ms/step - loss: -3705820.2500 - accuracy: 0.0049 - val_loss: -5096100.5000 - val_accuracy: 0.0000e+00\n",
      "Epoch 20/50\n",
      "7/7 [==============================] - 0s 12ms/step - loss: -6387038.5000 - accuracy: 0.0049 - val_loss: -6532076.0000 - val_accuracy: 0.0000e+00\n",
      "Epoch 21/50\n",
      "7/7 [==============================] - 0s 13ms/step - loss: -7768712.0000 - accuracy: 0.0049 - val_loss: -8361895.5000 - val_accuracy: 0.0000e+00\n",
      "Epoch 22/50\n",
      "7/7 [==============================] - 0s 9ms/step - loss: -9082938.0000 - accuracy: 0.0049 - val_loss: -10501057.0000 - val_accuracy: 0.0000e+00\n",
      "Epoch 23/50\n",
      "7/7 [==============================] - 0s 9ms/step - loss: -12394952.0000 - accuracy: 0.0049 - val_loss: -13085362.0000 - val_accuracy: 0.0000e+00\n",
      "Epoch 24/50\n",
      "7/7 [==============================] - 0s 8ms/step - loss: -18183544.0000 - accuracy: 0.0049 - val_loss: -16285380.0000 - val_accuracy: 0.0000e+00\n",
      "Epoch 25/50\n",
      "7/7 [==============================] - 0s 10ms/step - loss: -10188512.0000 - accuracy: 0.0049 - val_loss: -19563732.0000 - val_accuracy: 0.0000e+00\n",
      "Epoch 26/50\n",
      "7/7 [==============================] - 0s 8ms/step - loss: -17513326.0000 - accuracy: 0.0049 - val_loss: -23087012.0000 - val_accuracy: 0.0000e+00\n",
      "Epoch 27/50\n",
      "7/7 [==============================] - 0s 9ms/step - loss: -30295872.0000 - accuracy: 0.0049 - val_loss: -27566210.0000 - val_accuracy: 0.0000e+00\n",
      "Epoch 28/50\n",
      "7/7 [==============================] - 0s 9ms/step - loss: -28543572.0000 - accuracy: 0.0049 - val_loss: -32193466.0000 - val_accuracy: 0.0000e+00\n",
      "Epoch 29/50\n",
      "7/7 [==============================] - 0s 10ms/step - loss: -38789708.0000 - accuracy: 0.0049 - val_loss: -37804388.0000 - val_accuracy: 0.0000e+00\n",
      "Epoch 30/50\n",
      "7/7 [==============================] - 0s 9ms/step - loss: -60381280.0000 - accuracy: 0.0049 - val_loss: -45012060.0000 - val_accuracy: 0.0000e+00\n",
      "Epoch 31/50\n",
      "7/7 [==============================] - 0s 10ms/step - loss: -38640576.0000 - accuracy: 0.0049 - val_loss: -52250372.0000 - val_accuracy: 0.0000e+00\n",
      "Epoch 32/50\n",
      "7/7 [==============================] - 0s 8ms/step - loss: -66792036.0000 - accuracy: 0.0049 - val_loss: -60064648.0000 - val_accuracy: 0.0000e+00\n",
      "Epoch 33/50\n",
      "7/7 [==============================] - 0s 9ms/step - loss: -42194888.0000 - accuracy: 0.0049 - val_loss: -68010960.0000 - val_accuracy: 0.0000e+00\n",
      "Epoch 34/50\n",
      "7/7 [==============================] - 0s 9ms/step - loss: -86164760.0000 - accuracy: 0.0049 - val_loss: -78043456.0000 - val_accuracy: 0.0000e+00\n",
      "Epoch 35/50\n",
      "7/7 [==============================] - 0s 11ms/step - loss: -55733992.0000 - accuracy: 0.0049 - val_loss: -88867440.0000 - val_accuracy: 0.0000e+00\n",
      "Epoch 36/50\n",
      "7/7 [==============================] - 0s 11ms/step - loss: -65201600.0000 - accuracy: 0.0049 - val_loss: -98937408.0000 - val_accuracy: 0.0000e+00\n",
      "Epoch 37/50\n",
      "7/7 [==============================] - 0s 10ms/step - loss: -122443600.0000 - accuracy: 0.0049 - val_loss: -110959096.0000 - val_accuracy: 0.0000e+00\n",
      "Epoch 38/50\n",
      "7/7 [==============================] - 0s 12ms/step - loss: -134933040.0000 - accuracy: 0.0049 - val_loss: -125311808.0000 - val_accuracy: 0.0000e+00\n",
      "Epoch 39/50\n",
      "7/7 [==============================] - 0s 9ms/step - loss: -107731952.0000 - accuracy: 0.0049 - val_loss: -140242672.0000 - val_accuracy: 0.0000e+00\n",
      "Epoch 40/50\n",
      "7/7 [==============================] - 0s 9ms/step - loss: -41027536.0000 - accuracy: 0.0049 - val_loss: -152351248.0000 - val_accuracy: 0.0000e+00\n",
      "Epoch 41/50\n",
      "7/7 [==============================] - 0s 10ms/step - loss: -195270240.0000 - accuracy: 0.0049 - val_loss: -169178608.0000 - val_accuracy: 0.0000e+00\n",
      "Epoch 42/50\n",
      "7/7 [==============================] - 0s 8ms/step - loss: -183439664.0000 - accuracy: 0.0049 - val_loss: -190583056.0000 - val_accuracy: 0.0000e+00\n",
      "Epoch 43/50\n",
      "7/7 [==============================] - 0s 11ms/step - loss: -157471008.0000 - accuracy: 0.0049 - val_loss: -210079696.0000 - val_accuracy: 0.0000e+00\n",
      "Epoch 44/50\n",
      "7/7 [==============================] - 0s 14ms/step - loss: -243607440.0000 - accuracy: 0.0049 - val_loss: -232412016.0000 - val_accuracy: 0.0000e+00\n",
      "Epoch 45/50\n",
      "7/7 [==============================] - 0s 9ms/step - loss: -275817088.0000 - accuracy: 0.0049 - val_loss: -256990704.0000 - val_accuracy: 0.0000e+00\n",
      "Epoch 46/50\n",
      "7/7 [==============================] - 0s 9ms/step - loss: -193904640.0000 - accuracy: 0.0049 - val_loss: -282223360.0000 - val_accuracy: 0.0000e+00\n",
      "Epoch 47/50\n",
      "7/7 [==============================] - 0s 8ms/step - loss: -177218592.0000 - accuracy: 0.0049 - val_loss: -304450816.0000 - val_accuracy: 0.0000e+00\n",
      "Epoch 48/50\n",
      "7/7 [==============================] - 0s 10ms/step - loss: -295942624.0000 - accuracy: 0.0049 - val_loss: -333973248.0000 - val_accuracy: 0.0000e+00\n",
      "Epoch 49/50\n",
      "7/7 [==============================] - 0s 9ms/step - loss: -431531584.0000 - accuracy: 0.0049 - val_loss: -367135104.0000 - val_accuracy: 0.0000e+00\n",
      "Epoch 50/50\n",
      "7/7 [==============================] - 0s 9ms/step - loss: -386943872.0000 - accuracy: 0.0049 - val_loss: -402072192.0000 - val_accuracy: 0.0000e+00\n",
      "3/3 [==============================] - 0s 2ms/step\n",
      "The accuracy obtained by CNN model : 0.0\n"
     ]
    }
   ],
   "source": [
    "from keras.models import Sequential\n",
    "from keras.layers import Dense\n",
    "from tensorflow.keras.optimizers import Adam\n",
    "from keras.layers import Dropout\n",
    "from keras import regularizers\n",
    "\n",
    "model = Sequential()\n",
    "\n",
    "# layers\n",
    "model.add(Dense(units = 16, kernel_initializer = 'uniform', activation = 'relu', input_dim = 4))\n",
    "model.add(Dense(units = 8, kernel_initializer = 'uniform', activation = 'relu'))\n",
    "model.add(Dropout(0.25))\n",
    "model.add(Dense(units = 4, kernel_initializer = 'uniform', activation = 'relu'))\n",
    "model.add(Dropout(0.5))\n",
    "model.add(Dense(units = 1, kernel_initializer = 'uniform', activation = 'sigmoid'))\n",
    "# from keras.optimizers import SGD\n",
    "# Compiling the ANN\n",
    "model.compile(optimizer = 'adam', loss = 'binary_crossentropy', metrics = ['accuracy'])\n",
    "model.summary()\n",
    "# fit the model to the training data\n",
    "history=model.fit(x_train, y_train,epochs=50, validation_data=(x_test, y_test))\n",
    "y_pred = model.predict(x_test)\n",
    "acc_cnn = np.mean(history.history['val_accuracy'])\n",
    "\n",
    "acc_cnn = acc_cnn*100\n",
    "print('The accuracy obtained by CNN model :',acc_cnn)"
   ]
  },
  {
   "cell_type": "code",
   "execution_count": 25,
   "metadata": {},
   "outputs": [
    {
     "name": "stdout",
     "output_type": "stream",
     "text": [
      "The Network has attacked with Inside Job\n"
     ]
    },
    {
     "name": "stderr",
     "output_type": "stream",
     "text": [
      "c:\\Users\\ymts0591\\Anaconda3\\lib\\site-packages\\sklearn\\base.py:450: UserWarning: X does not have valid feature names, but RandomForestClassifier was fitted with feature names\n",
      "  warnings.warn(\n"
     ]
    }
   ],
   "source": [
    "abc = [[59,\t2019,\t9700000,\t13]]\n",
    "result=rf.predict(abc)\n",
    "result = result[0]\n",
    "result\n",
    "if result==0:\n",
    "    print('The Network has attacked with Poor Security')\n",
    "elif result ==1:\n",
    "    print('The Network has attacked with Accidentally Exposed')\n",
    "elif result==2:\n",
    "    print(\"The Network has attacked with Accidentally Published\")\n",
    "elif result==3:\n",
    "    print(\"The Network has attacked with Accidentally Uploaded\")\n",
    "elif result==4:\n",
    "    print(\"The Network has attacked with Data Exposed\")\n",
    "elif result==5:\n",
    "    print(\"The Network has attacked with Hacked\")\n",
    "elif result==6:\n",
    "    print(\"The Network has attacked with Improper setting/Hacked\")\n",
    "elif result==7:\n",
    "    print(\"The Network has attacked with Inside Job\")\n",
    "elif result==8:\n",
    "    print(\"Inside Job/Hacked\")\n",
    "elif result==9:\n",
    "    print(\"The Network has attacked with Intensionally Lost\")\n",
    "elif result==10:\n",
    "    print(\"The Network has attacked with Lost/Stolen Computer\")\n",
    "elif result==11:\n",
    "    print(\"The Network has attacked with Lost/Stolen Media\")\n",
    "elif result==12:\n",
    "    print(\"The Network has attacked with Misconfiguration\")\n",
    "elif result==13:\n",
    "    print(\"The Network has attacked with Poor Security\")\n",
    "elif result==14:\n",
    "    print(\"The Network has attacked with Poor Security/Hacked\")\n",
    "elif result==15:\n",
    "    print(\"The Network has attacked with Poor security\")\n",
    "elif result==16:\n",
    "    print(\"The Network has attacked with Publicly by Amazon web Services\")\n",
    "elif result==17:\n",
    "    print(\"The Network has attacked with Rouge Contracter\")\n",
    "elif result==18:\n",
    "    print(\"The Network has attacked with Socila engineering\")\n",
    "elif result==19:\n",
    "    print(\"The Network has attacked with Unknown\")\n",
    "elif result==20:\n",
    "    print(\"The Network has attacked with Unprotected Api\")\n",
    "else:\n",
    "    print(\"The Network has attacked with Unserved S3 Bucket\")"
   ]
  }
 ],
 "metadata": {
  "kernelspec": {
   "display_name": "base",
   "language": "python",
   "name": "python3"
  },
  "language_info": {
   "codemirror_mode": {
    "name": "ipython",
    "version": 3
   },
   "file_extension": ".py",
   "mimetype": "text/x-python",
   "name": "python",
   "nbconvert_exporter": "python",
   "pygments_lexer": "ipython3",
   "version": "3.9.13 (main, Aug 25 2022, 23:51:50) [MSC v.1916 64 bit (AMD64)]"
  },
  "orig_nbformat": 4,
  "vscode": {
   "interpreter": {
    "hash": "25bf2195311502618f8cfda8dfe9021d3386a51502ccf57bea54fe62c94010c3"
   }
  }
 },
 "nbformat": 4,
 "nbformat_minor": 2
}
